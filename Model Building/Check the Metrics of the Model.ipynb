{
 "cells": [
  {
   "cell_type": "markdown",
   "id": "8fc15ccd",
   "metadata": {},
   "source": [
    "# Importing required libraries"
   ]
  },
  {
   "cell_type": "code",
   "execution_count": 87,
   "id": "7acdaf88",
   "metadata": {},
   "outputs": [],
   "source": [
    "import pandas as pd\n",
    "import numpy as np\n",
    "from sklearn.preprocessing import LabelEncoder\n",
    "from sklearn.model_selection import train_test_split\n",
    "from sklearn.metrics import mean_absolute_error, mean_squared_error, r2_score\n",
    "import pickle"
   ]
  },
  {
   "cell_type": "markdown",
   "id": "14e6fef5",
   "metadata": {},
   "source": [
    "# Read and Cleaning the dataset"
   ]
  },
  {
   "cell_type": "code",
   "execution_count": 88,
   "id": "ffbcf128",
   "metadata": {},
   "outputs": [],
   "source": [
    "df=pd.read_csv(\"E:/studies/my ibm/dataset/Dataset.csv\", header=0, sep=',', encoding='Latin1',)"
   ]
  },
  {
   "cell_type": "code",
   "execution_count": 89,
   "id": "4e109827",
   "metadata": {},
   "outputs": [
    {
     "data": {
      "text/html": [
       "<div>\n",
       "<style scoped>\n",
       "    .dataframe tbody tr th:only-of-type {\n",
       "        vertical-align: middle;\n",
       "    }\n",
       "\n",
       "    .dataframe tbody tr th {\n",
       "        vertical-align: top;\n",
       "    }\n",
       "\n",
       "    .dataframe thead th {\n",
       "        text-align: right;\n",
       "    }\n",
       "</style>\n",
       "<table border=\"1\" class=\"dataframe\">\n",
       "  <thead>\n",
       "    <tr style=\"text-align: right;\">\n",
       "      <th></th>\n",
       "      <th>dateCrawled</th>\n",
       "      <th>name</th>\n",
       "      <th>seller</th>\n",
       "      <th>offerType</th>\n",
       "      <th>price</th>\n",
       "      <th>abtest</th>\n",
       "      <th>vehicleType</th>\n",
       "      <th>yearOfRegistration</th>\n",
       "      <th>gearbox</th>\n",
       "      <th>powerPS</th>\n",
       "      <th>model</th>\n",
       "      <th>kilometer</th>\n",
       "      <th>monthOfRegistration</th>\n",
       "      <th>fuelType</th>\n",
       "      <th>brand</th>\n",
       "      <th>notRepairedDamage</th>\n",
       "      <th>dateCreated</th>\n",
       "      <th>nrOfPictures</th>\n",
       "      <th>postalCode</th>\n",
       "      <th>lastSeen</th>\n",
       "    </tr>\n",
       "  </thead>\n",
       "  <tbody>\n",
       "    <tr>\n",
       "      <th>0</th>\n",
       "      <td>2016-03-24 11:52:17</td>\n",
       "      <td>Golf_3_1.6</td>\n",
       "      <td>privat</td>\n",
       "      <td>Angebot</td>\n",
       "      <td>480</td>\n",
       "      <td>test</td>\n",
       "      <td>NaN</td>\n",
       "      <td>1993</td>\n",
       "      <td>manuell</td>\n",
       "      <td>0</td>\n",
       "      <td>golf</td>\n",
       "      <td>150000</td>\n",
       "      <td>0</td>\n",
       "      <td>benzin</td>\n",
       "      <td>volkswagen</td>\n",
       "      <td>NaN</td>\n",
       "      <td>2016-03-24 00:00:00</td>\n",
       "      <td>0</td>\n",
       "      <td>70435</td>\n",
       "      <td>2016-04-07 03:16:57</td>\n",
       "    </tr>\n",
       "    <tr>\n",
       "      <th>1</th>\n",
       "      <td>2016-03-24 10:58:45</td>\n",
       "      <td>A5_Sportback_2.7_Tdi</td>\n",
       "      <td>privat</td>\n",
       "      <td>Angebot</td>\n",
       "      <td>18300</td>\n",
       "      <td>test</td>\n",
       "      <td>coupe</td>\n",
       "      <td>2011</td>\n",
       "      <td>manuell</td>\n",
       "      <td>190</td>\n",
       "      <td>NaN</td>\n",
       "      <td>125000</td>\n",
       "      <td>5</td>\n",
       "      <td>diesel</td>\n",
       "      <td>audi</td>\n",
       "      <td>ja</td>\n",
       "      <td>2016-03-24 00:00:00</td>\n",
       "      <td>0</td>\n",
       "      <td>66954</td>\n",
       "      <td>2016-04-07 01:46:50</td>\n",
       "    </tr>\n",
       "    <tr>\n",
       "      <th>2</th>\n",
       "      <td>2016-03-14 12:52:21</td>\n",
       "      <td>Jeep_Grand_Cherokee_\"Overland\"</td>\n",
       "      <td>privat</td>\n",
       "      <td>Angebot</td>\n",
       "      <td>9800</td>\n",
       "      <td>test</td>\n",
       "      <td>suv</td>\n",
       "      <td>2004</td>\n",
       "      <td>automatik</td>\n",
       "      <td>163</td>\n",
       "      <td>grand</td>\n",
       "      <td>125000</td>\n",
       "      <td>8</td>\n",
       "      <td>diesel</td>\n",
       "      <td>jeep</td>\n",
       "      <td>NaN</td>\n",
       "      <td>2016-03-14 00:00:00</td>\n",
       "      <td>0</td>\n",
       "      <td>90480</td>\n",
       "      <td>2016-04-05 12:47:46</td>\n",
       "    </tr>\n",
       "    <tr>\n",
       "      <th>3</th>\n",
       "      <td>2016-03-17 16:54:04</td>\n",
       "      <td>GOLF_4_1_4__3TÜRER</td>\n",
       "      <td>privat</td>\n",
       "      <td>Angebot</td>\n",
       "      <td>1500</td>\n",
       "      <td>test</td>\n",
       "      <td>kleinwagen</td>\n",
       "      <td>2001</td>\n",
       "      <td>manuell</td>\n",
       "      <td>75</td>\n",
       "      <td>golf</td>\n",
       "      <td>150000</td>\n",
       "      <td>6</td>\n",
       "      <td>benzin</td>\n",
       "      <td>volkswagen</td>\n",
       "      <td>nein</td>\n",
       "      <td>2016-03-17 00:00:00</td>\n",
       "      <td>0</td>\n",
       "      <td>91074</td>\n",
       "      <td>2016-03-17 17:40:17</td>\n",
       "    </tr>\n",
       "    <tr>\n",
       "      <th>4</th>\n",
       "      <td>2016-03-31 17:25:20</td>\n",
       "      <td>Skoda_Fabia_1.4_TDI_PD_Classic</td>\n",
       "      <td>privat</td>\n",
       "      <td>Angebot</td>\n",
       "      <td>3600</td>\n",
       "      <td>test</td>\n",
       "      <td>kleinwagen</td>\n",
       "      <td>2008</td>\n",
       "      <td>manuell</td>\n",
       "      <td>69</td>\n",
       "      <td>fabia</td>\n",
       "      <td>90000</td>\n",
       "      <td>7</td>\n",
       "      <td>diesel</td>\n",
       "      <td>skoda</td>\n",
       "      <td>nein</td>\n",
       "      <td>2016-03-31 00:00:00</td>\n",
       "      <td>0</td>\n",
       "      <td>60437</td>\n",
       "      <td>2016-04-06 10:17:21</td>\n",
       "    </tr>\n",
       "  </tbody>\n",
       "</table>\n",
       "</div>"
      ],
      "text/plain": [
       "           dateCrawled                            name  seller offerType  \\\n",
       "0  2016-03-24 11:52:17                      Golf_3_1.6  privat   Angebot   \n",
       "1  2016-03-24 10:58:45            A5_Sportback_2.7_Tdi  privat   Angebot   \n",
       "2  2016-03-14 12:52:21  Jeep_Grand_Cherokee_\"Overland\"  privat   Angebot   \n",
       "3  2016-03-17 16:54:04              GOLF_4_1_4__3TÜRER  privat   Angebot   \n",
       "4  2016-03-31 17:25:20  Skoda_Fabia_1.4_TDI_PD_Classic  privat   Angebot   \n",
       "\n",
       "   price abtest vehicleType  yearOfRegistration    gearbox  powerPS  model  \\\n",
       "0    480   test         NaN                1993    manuell        0   golf   \n",
       "1  18300   test       coupe                2011    manuell      190    NaN   \n",
       "2   9800   test         suv                2004  automatik      163  grand   \n",
       "3   1500   test  kleinwagen                2001    manuell       75   golf   \n",
       "4   3600   test  kleinwagen                2008    manuell       69  fabia   \n",
       "\n",
       "   kilometer  monthOfRegistration fuelType       brand notRepairedDamage  \\\n",
       "0     150000                    0   benzin  volkswagen               NaN   \n",
       "1     125000                    5   diesel        audi                ja   \n",
       "2     125000                    8   diesel        jeep               NaN   \n",
       "3     150000                    6   benzin  volkswagen              nein   \n",
       "4      90000                    7   diesel       skoda              nein   \n",
       "\n",
       "           dateCreated  nrOfPictures  postalCode             lastSeen  \n",
       "0  2016-03-24 00:00:00             0       70435  2016-04-07 03:16:57  \n",
       "1  2016-03-24 00:00:00             0       66954  2016-04-07 01:46:50  \n",
       "2  2016-03-14 00:00:00             0       90480  2016-04-05 12:47:46  \n",
       "3  2016-03-17 00:00:00             0       91074  2016-03-17 17:40:17  \n",
       "4  2016-03-31 00:00:00             0       60437  2016-04-06 10:17:21  "
      ]
     },
     "execution_count": 89,
     "metadata": {},
     "output_type": "execute_result"
    }
   ],
   "source": [
    "df.head()"
   ]
  },
  {
   "cell_type": "code",
   "execution_count": 90,
   "id": "47c8d9d4",
   "metadata": {},
   "outputs": [
    {
     "data": {
      "text/plain": [
       "(371528, 20)"
      ]
     },
     "execution_count": 90,
     "metadata": {},
     "output_type": "execute_result"
    }
   ],
   "source": [
    "df.shape"
   ]
  },
  {
   "cell_type": "code",
   "execution_count": 91,
   "id": "65a6b2da",
   "metadata": {},
   "outputs": [],
   "source": [
    "df.drop(['name', 'abtest', 'dateCrawled', 'nrOfPictures', 'lastSeen',\n",
    "         'postalCode','dateCreated','offerType'], axis='columns',inplace=True)"
   ]
  },
  {
   "cell_type": "code",
   "execution_count": 92,
   "id": "f03af89d",
   "metadata": {},
   "outputs": [],
   "source": [
    "df = df[(df.yearOfRegistration >= 1950) & (df.yearOfRegistration < 2017)]"
   ]
  },
  {
   "cell_type": "code",
   "execution_count": 93,
   "id": "c23a2b89",
   "metadata": {},
   "outputs": [
    {
     "data": {
      "text/plain": [
       "(356559, 12)"
      ]
     },
     "execution_count": 93,
     "metadata": {},
     "output_type": "execute_result"
    }
   ],
   "source": [
    "df.shape"
   ]
  },
  {
   "cell_type": "code",
   "execution_count": 94,
   "id": "d8192d09",
   "metadata": {},
   "outputs": [],
   "source": [
    "new_df = df.copy()"
   ]
  },
  {
   "cell_type": "code",
   "execution_count": 95,
   "id": "4896a0d4",
   "metadata": {},
   "outputs": [],
   "source": [
    "new_df = new_df.drop_duplicates ([ 'price', 'vehicleType', 'yearOfRegistration'\n",
    "                                  ,'gearbox', 'powerPS', 'model', 'kilometer', 'monthOfRegistration', 'fuelType'\n",
    "                                  ,'notRepairedDamage'])"
   ]
  },
  {
   "cell_type": "code",
   "execution_count": 96,
   "id": "2288921c",
   "metadata": {},
   "outputs": [],
   "source": [
    "new_df.gearbox.replace(('manuell', 'automatik'), ('manual', 'automatic'), inplace=True)\n",
    "new_df.fuelType.replace(('benzin', 'andere', 'elektro'), ('petrol', 'others', 'electric'), inplace=True)\n",
    "new_df.vehicleType.replace(('kleinwagen', 'cabrio', 'kombi', 'andere'), \n",
    "                           ('small car', 'convertible', 'combination', 'others'), inplace=True)\n",
    "new_df.notRepairedDamage.replace(('ja', 'nein'), ('Yes', 'No'),inplace=True)"
   ]
  },
  {
   "cell_type": "code",
   "execution_count": 98,
   "id": "7718a205",
   "metadata": {},
   "outputs": [],
   "source": [
    "new_df = new_df[(new_df.price >= 100) & (new_df.price <= 150000)]\n",
    "new_df = new_df[(new_df.powerPS > 50) & (new_df.powerPS < 900)]"
   ]
  },
  {
   "cell_type": "markdown",
   "id": "6da216b7",
   "metadata": {},
   "source": [
    "# Preprocessing the Data"
   ]
  },
  {
   "cell_type": "code",
   "execution_count": 99,
   "id": "87e52f1c",
   "metadata": {},
   "outputs": [],
   "source": [
    "new_df[ 'fuelType'].fillna(value='not-declared', inplace=True)\n",
    "new_df[ 'gearbox'].fillna(value='not-declared', inplace=True)\n",
    "new_df[ 'vehicleType'].fillna (value='not-declared', inplace=True)\n",
    "new_df['model'].fillna(value='not-declared',inplace=True)"
   ]
  },
  {
   "cell_type": "code",
   "execution_count": 100,
   "id": "55514f0f",
   "metadata": {},
   "outputs": [],
   "source": [
    "new_df.to_csv(\"preprocessed.csv\")"
   ]
  },
  {
   "cell_type": "code",
   "execution_count": 101,
   "id": "9322ca93",
   "metadata": {},
   "outputs": [],
   "source": [
    "labels = ['gearbox', 'notRepairedDamage', 'model', 'brand', 'fuelType', 'vehicleType']"
   ]
  },
  {
   "cell_type": "code",
   "execution_count": 102,
   "id": "7819cdde",
   "metadata": {},
   "outputs": [
    {
     "name": "stdout",
     "output_type": "stream",
     "text": [
      "gearbox : LabelEncoder()\n",
      "notRepairedDamage : LabelEncoder()\n",
      "model : LabelEncoder()\n",
      "brand : LabelEncoder()\n",
      "fuelType : LabelEncoder()\n",
      "vehicleType : LabelEncoder()\n"
     ]
    }
   ],
   "source": [
    "mapper = {}\n",
    "for i in labels:\n",
    "    mapper[i]=LabelEncoder()\n",
    "    mapper[i].fit(new_df[i])\n",
    "    tr = mapper[i].transform(new_df[i])\n",
    "    np.save(str('classes'+i+ '.npy'), mapper[i].classes_)\n",
    "    print(i, \":\",mapper[i])\n",
    "    new_df.loc[:, i + '_labels'] = pd.Series (tr, index=new_df.index)"
   ]
  },
  {
   "cell_type": "code",
   "execution_count": 103,
   "id": "716f8518",
   "metadata": {},
   "outputs": [],
   "source": [
    "labeled=new_df[ ['price'\n",
    "                 ,'yearOfRegistration'\n",
    "                 ,'powerPS'\n",
    "                 ,'kilometer'\n",
    "                 ,'monthOfRegistration'\n",
    "                ]\n",
    "               + [x+\"_labels\" for x in labels]]"
   ]
  },
  {
   "cell_type": "code",
   "execution_count": 104,
   "id": "ec4ebdf6",
   "metadata": {},
   "outputs": [
    {
     "name": "stdout",
     "output_type": "stream",
     "text": [
      "Index(['price', 'yearOfRegistration', 'powerPS', 'kilometer',\n",
      "       'monthOfRegistration', 'gearbox_labels', 'notRepairedDamage_labels',\n",
      "       'model_labels', 'brand_labels', 'fuelType_labels',\n",
      "       'vehicleType_labels'],\n",
      "      dtype='object')\n"
     ]
    }
   ],
   "source": [
    "print(labeled.columns)"
   ]
  },
  {
   "cell_type": "markdown",
   "id": "08c0ceef",
   "metadata": {},
   "source": [
    "# Splitting data into Dependent and Independent variables"
   ]
  },
  {
   "cell_type": "code",
   "execution_count": 105,
   "id": "40726fae",
   "metadata": {},
   "outputs": [],
   "source": [
    "Y = labeled.iloc[:,0].values.reshape(-1,1)\n",
    "X = labeled.iloc[:,1:].values"
   ]
  },
  {
   "cell_type": "code",
   "execution_count": 106,
   "id": "68a4f622",
   "metadata": {},
   "outputs": [
    {
     "name": "stdout",
     "output_type": "stream",
     "text": [
      "[[18300]\n",
      " [ 9800]\n",
      " [ 1500]\n",
      " ...\n",
      " [ 9200]\n",
      " [ 3400]\n",
      " [28990]]\n"
     ]
    }
   ],
   "source": [
    "print(Y)"
   ]
  },
  {
   "cell_type": "code",
   "execution_count": 107,
   "id": "de7511a0",
   "metadata": {},
   "outputs": [
    {
     "name": "stdout",
     "output_type": "stream",
     "text": [
      "[[  2011    190 125000 ...      1      1      3]\n",
      " [  2004    163 125000 ...     14      1      8]\n",
      " [  2001     75 150000 ...     38      7      7]\n",
      " ...\n",
      " [  1996    102 150000 ...     38      1      0]\n",
      " [  2002    100 150000 ...     38      1      1]\n",
      " [  2013    320  50000 ...      2      7      4]]\n"
     ]
    }
   ],
   "source": [
    "print(X)"
   ]
  },
  {
   "cell_type": "code",
   "execution_count": 108,
   "id": "f79b5478",
   "metadata": {},
   "outputs": [],
   "source": [
    "from sklearn.model_selection import cross_val_score, train_test_split\n",
    "X_train, X_test, Y_train, Y_test = train_test_split(X, Y, test_size=0.4, random_state=20)"
   ]
  },
  {
   "cell_type": "code",
   "execution_count": 109,
   "id": "a8f3264b",
   "metadata": {},
   "outputs": [
    {
     "data": {
      "text/plain": [
       "(167146, 10)"
      ]
     },
     "execution_count": 109,
     "metadata": {},
     "output_type": "execute_result"
    }
   ],
   "source": [
    "X_train.shape"
   ]
  },
  {
   "cell_type": "code",
   "execution_count": 110,
   "id": "ff9728d7",
   "metadata": {},
   "outputs": [
    {
     "data": {
      "text/plain": [
       "(111432, 10)"
      ]
     },
     "execution_count": 110,
     "metadata": {},
     "output_type": "execute_result"
    }
   ],
   "source": [
    "X_test.shape"
   ]
  },
  {
   "cell_type": "code",
   "execution_count": 111,
   "id": "397f3dfc",
   "metadata": {},
   "outputs": [
    {
     "data": {
      "text/plain": [
       "(167146, 1)"
      ]
     },
     "execution_count": 111,
     "metadata": {},
     "output_type": "execute_result"
    }
   ],
   "source": [
    "Y_train.shape"
   ]
  },
  {
   "cell_type": "code",
   "execution_count": 112,
   "id": "9280337d",
   "metadata": {},
   "outputs": [
    {
     "data": {
      "text/plain": [
       "(111432, 1)"
      ]
     },
     "execution_count": 112,
     "metadata": {},
     "output_type": "execute_result"
    }
   ],
   "source": [
    "Y_test.shape"
   ]
  },
  {
   "cell_type": "markdown",
   "id": "a8f5a8ee",
   "metadata": {},
   "source": [
    "# Model Building"
   ]
  },
  {
   "cell_type": "code",
   "execution_count": 114,
   "id": "38d02b97",
   "metadata": {},
   "outputs": [],
   "source": [
    "from sklearn.metrics import r2_score\n",
    "from sklearn.metrics import mean_squared_error\n",
    "import math"
   ]
  },
  {
   "cell_type": "code",
   "execution_count": 115,
   "id": "e8972223",
   "metadata": {},
   "outputs": [],
   "source": [
    "def find_scores(Y_actual, Y_pred, X_train):\n",
    "    MSE=mean_squared_error(Y_actual,Y_pred)\n",
    "    print(\"MSE:\",MSE)\n",
    "    RMSE=math.sqrt(MSE)\n",
    "    print(\"RMSE:\",RMSE)\n",
    "    r2=r2_score(Y_actual,Y_pred)\n",
    "    print(\"R2_score:\",r2)\n",
    "    Adjusted_R2=1-(1-r2*((X_test.shape[0]-1)/(X_test.shape[0]-X_test.shape[1]-1)))\n",
    "    print(\"Adjusted R2:\",Adjusted_R2)\n",
    "#     plt.figure(figsize=(10,5))\n",
    "#     plt.plot(Y_pred[0:20])\n",
    "#     plt.plot(np.array(Y_test[0:20]))\n",
    "#     plt.legend([\"predicted\",\"actual\"])\n",
    "#     plt.show()"
   ]
  },
  {
   "cell_type": "markdown",
   "id": "ee2b0537",
   "metadata": {},
   "source": [
    "# Choose the Appropriate Model"
   ]
  },
  {
   "cell_type": "markdown",
   "id": "e8789c64",
   "metadata": {},
   "source": [
    "## Model 1 : Random Forest Regressor"
   ]
  },
  {
   "cell_type": "code",
   "execution_count": 116,
   "id": "de6ec1c0",
   "metadata": {},
   "outputs": [],
   "source": [
    "from sklearn.ensemble import RandomForestRegressor"
   ]
  },
  {
   "cell_type": "code",
   "execution_count": 117,
   "id": "8475262e",
   "metadata": {},
   "outputs": [],
   "source": [
    "def random_forest_regressor(n_estimators,max_samples,criterion,bootstrap,random_state):\n",
    "        \n",
    "    model = RandomForestRegressor(\n",
    "      n_estimators = n_estimators,\n",
    "      criterion = criterion,\n",
    "      bootstrap = bootstrap,\n",
    "      max_samples = max_samples,\n",
    "      random_state = random_state)\n",
    "    \n",
    "    model.fit(X_train, np.ravel(Y_train,order='C'))\n",
    "    \n",
    "    Y_pred = model.predict(X_test)\n",
    "    \n",
    "    find_scores(Y_test, Y_pred, X_train)"
   ]
  },
  {
   "cell_type": "code",
   "execution_count": 119,
   "id": "6993db0d",
   "metadata": {},
   "outputs": [
    {
     "name": "stdout",
     "output_type": "stream",
     "text": [
      "MSE: 10429809.195812337\n",
      "RMSE: 3229.521511898061\n",
      "R2_score: 0.8558564517160402\n",
      "Adjusted R2: 0.855933264565657\n"
     ]
    }
   ],
   "source": [
    "random_forest_regressor(100,0.3,'squared_error',True,40)"
   ]
  },
  {
   "cell_type": "code",
   "execution_count": 120,
   "id": "306efa14",
   "metadata": {},
   "outputs": [
    {
     "name": "stdout",
     "output_type": "stream",
     "text": [
      "MSE: 10441510.240895698\n",
      "RMSE: 3231.332579741011\n",
      "R2_score: 0.8556947392508089\n",
      "Adjusted R2: 0.8557715375867824\n"
     ]
    }
   ],
   "source": [
    "random_forest_regressor(300,0.3,'squared_error',True,40)"
   ]
  },
  {
   "cell_type": "code",
   "execution_count": 121,
   "id": "b156fdc5",
   "metadata": {},
   "outputs": [
    {
     "name": "stdout",
     "output_type": "stream",
     "text": [
      "MSE: 10441214.518756213\n",
      "RMSE: 3231.286820874342\n",
      "R2_score: 0.8556988262324297\n",
      "Adjusted R2: 0.8557756249352085\n"
     ]
    }
   ],
   "source": [
    "random_forest_regressor(200,0.3,'squared_error',True,40)"
   ]
  },
  {
   "cell_type": "code",
   "execution_count": 122,
   "id": "f885a17a",
   "metadata": {},
   "outputs": [
    {
     "name": "stdout",
     "output_type": "stream",
     "text": [
      "MSE: 10375074.1361412\n",
      "RMSE: 3221.036189821716\n",
      "R2_score: 0.8566129090556145\n",
      "Adjusted R2: 0.8566897897970417\n"
     ]
    }
   ],
   "source": [
    "random_forest_regressor(100,0.4,'squared_error',True,40)"
   ]
  },
  {
   "cell_type": "code",
   "execution_count": 123,
   "id": "91c75c9d",
   "metadata": {},
   "outputs": [
    {
     "name": "stdout",
     "output_type": "stream",
     "text": [
      "MSE: 10299063.708894264\n",
      "RMSE: 3209.2154351015865\n",
      "R2_score: 0.8576633992883937\n",
      "Adjusted R2: 0.8577403743109917\n"
     ]
    }
   ],
   "source": [
    "random_forest_regressor(100,0.45,'squared_error',True,40)"
   ]
  },
  {
   "cell_type": "markdown",
   "id": "51bafafd",
   "metadata": {},
   "source": [
    "## Model 2 : Bagging Regressor"
   ]
  },
  {
   "cell_type": "code",
   "execution_count": 124,
   "id": "100fe534",
   "metadata": {},
   "outputs": [],
   "source": [
    "from sklearn.ensemble import BaggingRegressor"
   ]
  },
  {
   "cell_type": "code",
   "execution_count": 128,
   "id": "de719246",
   "metadata": {},
   "outputs": [],
   "source": [
    "def bagging_regressor(n_estimators,bootstrap,max_samples,random_state):\n",
    "    \n",
    "    model = BaggingRegressor(\n",
    "      n_estimators=n_estimators, \n",
    "      bootstrap=bootstrap,\n",
    "      max_samples=max_samples,\n",
    "      random_state=random_state)\n",
    "    \n",
    "    model.fit(X_train,np.ravel(Y_train,order='C'))\n",
    "    \n",
    "    Y_pred = model.predict(X_test)\n",
    "    \n",
    "    find_scores(Y_test, Y_pred, X_train)"
   ]
  },
  {
   "cell_type": "code",
   "execution_count": 129,
   "id": "12ae2e9f",
   "metadata": {},
   "outputs": [
    {
     "name": "stdout",
     "output_type": "stream",
     "text": [
      "MSE: 10391568.470448954\n",
      "RMSE: 3223.5955810940295\n",
      "R2_score: 0.8563849516856314\n",
      "Adjusted R2: 0.8564618119679557\n"
     ]
    }
   ],
   "source": [
    "bagging_regressor(100,True,0.4,40)"
   ]
  },
  {
   "cell_type": "code",
   "execution_count": 130,
   "id": "ae315153",
   "metadata": {},
   "outputs": [
    {
     "name": "stdout",
     "output_type": "stream",
     "text": [
      "MSE: 10348619.50812465\n",
      "RMSE: 3216.9270287223876\n",
      "R2_score: 0.8569785211084571\n",
      "Adjusted R2: 0.8570554346634519\n"
     ]
    }
   ],
   "source": [
    "bagging_regressor(200,True,0.4,40)"
   ]
  },
  {
   "cell_type": "code",
   "execution_count": 131,
   "id": "08f89896",
   "metadata": {},
   "outputs": [
    {
     "name": "stdout",
     "output_type": "stream",
     "text": [
      "MSE: 10312980.19702098\n",
      "RMSE: 3211.382910370699\n",
      "R2_score: 0.8574710686387552\n",
      "Adjusted R2: 0.8575480263997373\n"
     ]
    }
   ],
   "source": [
    "bagging_regressor(300,True,0.4,40)"
   ]
  },
  {
   "cell_type": "code",
   "execution_count": 132,
   "id": "37d0c87b",
   "metadata": {},
   "outputs": [
    {
     "name": "stdout",
     "output_type": "stream",
     "text": [
      "MSE: 10459870.329386981\n",
      "RMSE: 3234.1722788662605\n",
      "R2_score: 0.8554409965166654\n",
      "Adjusted R2: 0.8555177720793077\n"
     ]
    }
   ],
   "source": [
    "bagging_regressor(300,True,0.3,40)"
   ]
  },
  {
   "cell_type": "markdown",
   "id": "c6442a1c",
   "metadata": {},
   "source": [
    "# Check the Metrics of the Model"
   ]
  },
  {
   "cell_type": "code",
   "execution_count": 135,
   "id": "fbb78154",
   "metadata": {},
   "outputs": [
    {
     "data": {
      "text/html": [
       "<style>#sk-container-id-1 {color: black;background-color: white;}#sk-container-id-1 pre{padding: 0;}#sk-container-id-1 div.sk-toggleable {background-color: white;}#sk-container-id-1 label.sk-toggleable__label {cursor: pointer;display: block;width: 100%;margin-bottom: 0;padding: 0.3em;box-sizing: border-box;text-align: center;}#sk-container-id-1 label.sk-toggleable__label-arrow:before {content: \"▸\";float: left;margin-right: 0.25em;color: #696969;}#sk-container-id-1 label.sk-toggleable__label-arrow:hover:before {color: black;}#sk-container-id-1 div.sk-estimator:hover label.sk-toggleable__label-arrow:before {color: black;}#sk-container-id-1 div.sk-toggleable__content {max-height: 0;max-width: 0;overflow: hidden;text-align: left;background-color: #f0f8ff;}#sk-container-id-1 div.sk-toggleable__content pre {margin: 0.2em;color: black;border-radius: 0.25em;background-color: #f0f8ff;}#sk-container-id-1 input.sk-toggleable__control:checked~div.sk-toggleable__content {max-height: 200px;max-width: 100%;overflow: auto;}#sk-container-id-1 input.sk-toggleable__control:checked~label.sk-toggleable__label-arrow:before {content: \"▾\";}#sk-container-id-1 div.sk-estimator input.sk-toggleable__control:checked~label.sk-toggleable__label {background-color: #d4ebff;}#sk-container-id-1 div.sk-label input.sk-toggleable__control:checked~label.sk-toggleable__label {background-color: #d4ebff;}#sk-container-id-1 input.sk-hidden--visually {border: 0;clip: rect(1px 1px 1px 1px);clip: rect(1px, 1px, 1px, 1px);height: 1px;margin: -1px;overflow: hidden;padding: 0;position: absolute;width: 1px;}#sk-container-id-1 div.sk-estimator {font-family: monospace;background-color: #f0f8ff;border: 1px dotted black;border-radius: 0.25em;box-sizing: border-box;margin-bottom: 0.5em;}#sk-container-id-1 div.sk-estimator:hover {background-color: #d4ebff;}#sk-container-id-1 div.sk-parallel-item::after {content: \"\";width: 100%;border-bottom: 1px solid gray;flex-grow: 1;}#sk-container-id-1 div.sk-label:hover label.sk-toggleable__label {background-color: #d4ebff;}#sk-container-id-1 div.sk-serial::before {content: \"\";position: absolute;border-left: 1px solid gray;box-sizing: border-box;top: 0;bottom: 0;left: 50%;z-index: 0;}#sk-container-id-1 div.sk-serial {display: flex;flex-direction: column;align-items: center;background-color: white;padding-right: 0.2em;padding-left: 0.2em;position: relative;}#sk-container-id-1 div.sk-item {position: relative;z-index: 1;}#sk-container-id-1 div.sk-parallel {display: flex;align-items: stretch;justify-content: center;background-color: white;position: relative;}#sk-container-id-1 div.sk-item::before, #sk-container-id-1 div.sk-parallel-item::before {content: \"\";position: absolute;border-left: 1px solid gray;box-sizing: border-box;top: 0;bottom: 0;left: 50%;z-index: -1;}#sk-container-id-1 div.sk-parallel-item {display: flex;flex-direction: column;z-index: 1;position: relative;background-color: white;}#sk-container-id-1 div.sk-parallel-item:first-child::after {align-self: flex-end;width: 50%;}#sk-container-id-1 div.sk-parallel-item:last-child::after {align-self: flex-start;width: 50%;}#sk-container-id-1 div.sk-parallel-item:only-child::after {width: 0;}#sk-container-id-1 div.sk-dashed-wrapped {border: 1px dashed gray;margin: 0 0.4em 0.5em 0.4em;box-sizing: border-box;padding-bottom: 0.4em;background-color: white;}#sk-container-id-1 div.sk-label label {font-family: monospace;font-weight: bold;display: inline-block;line-height: 1.2em;}#sk-container-id-1 div.sk-label-container {text-align: center;}#sk-container-id-1 div.sk-container {/* jupyter's `normalize.less` sets `[hidden] { display: none; }` but bootstrap.min.css set `[hidden] { display: none !important; }` so we also need the `!important` here to be able to override the default hidden behavior on the sphinx rendered scikit-learn.org. See: https://github.com/scikit-learn/scikit-learn/issues/21755 */display: inline-block !important;position: relative;}#sk-container-id-1 div.sk-text-repr-fallback {display: none;}</style><div id=\"sk-container-id-1\" class=\"sk-top-container\"><div class=\"sk-text-repr-fallback\"><pre>RandomForestRegressor(max_samples=0.45, random_state=40)</pre><b>In a Jupyter environment, please rerun this cell to show the HTML representation or trust the notebook. <br />On GitHub, the HTML representation is unable to render, please try loading this page with nbviewer.org.</b></div><div class=\"sk-container\" hidden><div class=\"sk-item\"><div class=\"sk-estimator sk-toggleable\"><input class=\"sk-toggleable__control sk-hidden--visually\" id=\"sk-estimator-id-1\" type=\"checkbox\" checked><label for=\"sk-estimator-id-1\" class=\"sk-toggleable__label sk-toggleable__label-arrow\">RandomForestRegressor</label><div class=\"sk-toggleable__content\"><pre>RandomForestRegressor(max_samples=0.45, random_state=40)</pre></div></div></div></div></div>"
      ],
      "text/plain": [
       "RandomForestRegressor(max_samples=0.45, random_state=40)"
      ]
     },
     "execution_count": 135,
     "metadata": {},
     "output_type": "execute_result"
    }
   ],
   "source": [
    "model = RandomForestRegressor(\n",
    "      n_estimators = 100,\n",
    "      criterion = 'squared_error',\n",
    "      bootstrap = True,\n",
    "      max_samples = 0.45,\n",
    "      random_state = 40)\n",
    "    \n",
    "model.fit(X_train, np.ravel(Y_train,order='C'))"
   ]
  },
  {
   "cell_type": "code",
   "execution_count": 136,
   "id": "d23efa1b",
   "metadata": {},
   "outputs": [
    {
     "name": "stdout",
     "output_type": "stream",
     "text": [
      "MSE: 10299063.708894264\n",
      "RMSE: 3209.2154351015865\n",
      "R2_score: 0.8576633992883937\n",
      "Adjusted R2: 0.8577403743109917\n"
     ]
    }
   ],
   "source": [
    "Y_pred = model.predict(X_test)\n",
    "find_scores(Y_test, Y_pred, X_train)"
   ]
  }
 ],
 "metadata": {
  "kernelspec": {
   "display_name": "Python 3 (ipykernel)",
   "language": "python",
   "name": "python3"
  },
  "language_info": {
   "codemirror_mode": {
    "name": "ipython",
    "version": 3
   },
   "file_extension": ".py",
   "mimetype": "text/x-python",
   "name": "python",
   "nbconvert_exporter": "python",
   "pygments_lexer": "ipython3",
   "version": "3.11.0"
  }
 },
 "nbformat": 4,
 "nbformat_minor": 5
}
